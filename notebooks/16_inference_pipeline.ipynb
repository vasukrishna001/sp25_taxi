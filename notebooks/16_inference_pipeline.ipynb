{
 "cells": [
  {
   "cell_type": "code",
   "execution_count": 10,
   "id": "cc080774-f41a-4503-a064-c0ac819eeb99",
   "metadata": {},
   "outputs": [],
   "source": [
    "# Reg fetch new batch of features and compute predictions and save to feature store\n",
    "# "
   ]
  },
  {
   "cell_type": "code",
   "execution_count": 11,
   "id": "4bd038bf-8550-420b-9ec2-308198fca80f",
   "metadata": {},
   "outputs": [
    {
     "name": "stdout",
     "output_type": "stream",
     "text": [
      "The autoreload extension is already loaded. To reload it, use:\n",
      "  %reload_ext autoreload\n"
     ]
    }
   ],
   "source": [
    "%load_ext autoreload\n",
    "%autoreload 2"
   ]
  },
  {
   "cell_type": "code",
   "execution_count": 12,
   "id": "46b8ae0d-58dd-4772-8931-25ff5fccb749",
   "metadata": {},
   "outputs": [],
   "source": [
    "import sys\n",
    "import os\n",
    "\n",
    "# Add the parent directory to the Python path\n",
    "sys.path.append(os.path.abspath(os.path.join(os.getcwd(), \"..\")))\n",
    "import src.config as config"
   ]
  },
  {
   "cell_type": "code",
   "execution_count": 13,
   "id": "26612685-265e-4415-a149-5751be8f994d",
   "metadata": {},
   "outputs": [
    {
     "name": "stdout",
     "output_type": "stream",
     "text": [
      "2025-02-19 21:06:38,049 INFO: Closing external client and cleaning up certificates.\n",
      "Connection closed.\n",
      "2025-02-19 21:06:38,742 INFO: Initializing external client\n",
      "2025-02-19 21:06:38,742 INFO: Base URL: https://c.app.hopsworks.ai:443\n",
      "2025-02-19 21:06:40,005 INFO: Python Engine initialized.\n",
      "\n",
      "Logged in to project, explore it here https://c.app.hopsworks.ai:443/p/1213633\n",
      "Fetching data from 2025-01-22 02:06:38.048575+00:00 to 2025-02-20 01:06:38.048575+00:00\n",
      "Finished: Reading data from Hopsworks, using Hopsworks Feature Query Service (4.87s) \n"
     ]
    }
   ],
   "source": [
    "from src.inference import get_feature_store\n",
    "from datetime import datetime, timedelta\n",
    "import pandas as pd  \n",
    "\n",
    "# Get the current datetime64[us, Etc/UTC]  \n",
    "current_date = pd.Timestamp.now(tz='Etc/UTC')\n",
    "feature_store = get_feature_store()\n",
    "\n",
    "# read time-series data from the feature store\n",
    "fetch_data_to = current_date - timedelta(hours=1)\n",
    "fetch_data_from = current_date - timedelta(days=1*29)\n",
    "print(f\"Fetching data from {fetch_data_from} to {fetch_data_to}\")\n",
    "feature_view = feature_store.get_feature_view(\n",
    "    name=config.FEATURE_VIEW_NAME, version=config.FEATURE_VIEW_VERSION\n",
    ")\n",
    "\n",
    "ts_data = feature_view.get_batch_data(\n",
    "    start_time=(fetch_data_from - timedelta(days=1)),\n",
    "    end_time=(fetch_data_to + timedelta(days=1)),\n",
    ")\n",
    "ts_data = ts_data[ts_data.pickup_hour.between(fetch_data_from, fetch_data_to)]\n",
    "ts_data.sort_values([\"pickup_location_id\", \"pickup_hour\"]).reset_index(drop=True)\n",
    "ts_data[\"pickup_hour\"] = ts_data[\"pickup_hour\"].dt.tz_localize(None)\n",
    "\n",
    "from src.data_utils import transform_ts_data_info_features\n",
    "features = transform_ts_data_info_features(ts_data, window_size=24*28, step_size=23)"
   ]
  },
  {
   "cell_type": "code",
   "execution_count": 14,
   "id": "22253dce-140a-4296-a48b-35c6c7655b90",
   "metadata": {},
   "outputs": [
    {
     "name": "stdout",
     "output_type": "stream",
     "text": [
      "2025-02-19 21:06:50,416 INFO: Closing external client and cleaning up certificates.\n",
      "Connection closed.\n",
      "2025-02-19 21:06:50,424 INFO: Initializing external client\n",
      "2025-02-19 21:06:50,425 INFO: Base URL: https://c.app.hopsworks.ai:443\n",
      "2025-02-19 21:06:51,445 INFO: Python Engine initialized.\n",
      "\n",
      "Logged in to project, explore it here https://c.app.hopsworks.ai:443/p/1213633\n",
      "Downloading model artifact (0 dirs, 1 files)... DONE"
     ]
    }
   ],
   "source": [
    "from src.inference import load_model_from_registry\n",
    "\n",
    "model = load_model_from_registry()"
   ]
  },
  {
   "cell_type": "code",
   "execution_count": 15,
   "id": "b868f801-03a3-4d51-8e24-88231e664f29",
   "metadata": {},
   "outputs": [],
   "source": [
    "from src.inference import get_model_predictions\n",
    "predictions = get_model_predictions(model, features)"
   ]
  },
  {
   "cell_type": "code",
   "execution_count": 16,
   "id": "751d63ab-8e98-4087-a3cf-d79bd1bd88e5",
   "metadata": {},
   "outputs": [
    {
     "data": {
      "text/html": [
       "<div>\n",
       "<style scoped>\n",
       "    .dataframe tbody tr th:only-of-type {\n",
       "        vertical-align: middle;\n",
       "    }\n",
       "\n",
       "    .dataframe tbody tr th {\n",
       "        vertical-align: top;\n",
       "    }\n",
       "\n",
       "    .dataframe thead th {\n",
       "        text-align: right;\n",
       "    }\n",
       "</style>\n",
       "<table border=\"1\" class=\"dataframe\">\n",
       "  <thead>\n",
       "    <tr style=\"text-align: right;\">\n",
       "      <th></th>\n",
       "      <th>pickup_location_id</th>\n",
       "      <th>predicted_demand</th>\n",
       "      <th>pickup_hour</th>\n",
       "    </tr>\n",
       "  </thead>\n",
       "  <tbody>\n",
       "    <tr>\n",
       "      <th>0</th>\n",
       "      <td>67</td>\n",
       "      <td>0.0</td>\n",
       "      <td>2025-02-20 03:00:00+00:00</td>\n",
       "    </tr>\n",
       "    <tr>\n",
       "      <th>1</th>\n",
       "      <td>147</td>\n",
       "      <td>0.0</td>\n",
       "      <td>2025-02-20 03:00:00+00:00</td>\n",
       "    </tr>\n",
       "    <tr>\n",
       "      <th>2</th>\n",
       "      <td>65</td>\n",
       "      <td>1.0</td>\n",
       "      <td>2025-02-20 03:00:00+00:00</td>\n",
       "    </tr>\n",
       "    <tr>\n",
       "      <th>3</th>\n",
       "      <td>156</td>\n",
       "      <td>0.0</td>\n",
       "      <td>2025-02-20 03:00:00+00:00</td>\n",
       "    </tr>\n",
       "    <tr>\n",
       "      <th>4</th>\n",
       "      <td>155</td>\n",
       "      <td>1.0</td>\n",
       "      <td>2025-02-20 03:00:00+00:00</td>\n",
       "    </tr>\n",
       "    <tr>\n",
       "      <th>...</th>\n",
       "      <td>...</td>\n",
       "      <td>...</td>\n",
       "      <td>...</td>\n",
       "    </tr>\n",
       "    <tr>\n",
       "      <th>248</th>\n",
       "      <td>207</td>\n",
       "      <td>0.0</td>\n",
       "      <td>2025-02-20 03:00:00+00:00</td>\n",
       "    </tr>\n",
       "    <tr>\n",
       "      <th>249</th>\n",
       "      <td>119</td>\n",
       "      <td>0.0</td>\n",
       "      <td>2025-02-20 03:00:00+00:00</td>\n",
       "    </tr>\n",
       "    <tr>\n",
       "      <th>250</th>\n",
       "      <td>12</td>\n",
       "      <td>1.0</td>\n",
       "      <td>2025-02-20 03:00:00+00:00</td>\n",
       "    </tr>\n",
       "    <tr>\n",
       "      <th>251</th>\n",
       "      <td>31</td>\n",
       "      <td>0.0</td>\n",
       "      <td>2025-02-20 03:00:00+00:00</td>\n",
       "    </tr>\n",
       "    <tr>\n",
       "      <th>252</th>\n",
       "      <td>16</td>\n",
       "      <td>0.0</td>\n",
       "      <td>2025-02-20 03:00:00+00:00</td>\n",
       "    </tr>\n",
       "  </tbody>\n",
       "</table>\n",
       "<p>253 rows × 3 columns</p>\n",
       "</div>"
      ],
      "text/plain": [
       "     pickup_location_id  predicted_demand               pickup_hour\n",
       "0                    67               0.0 2025-02-20 03:00:00+00:00\n",
       "1                   147               0.0 2025-02-20 03:00:00+00:00\n",
       "2                    65               1.0 2025-02-20 03:00:00+00:00\n",
       "3                   156               0.0 2025-02-20 03:00:00+00:00\n",
       "4                   155               1.0 2025-02-20 03:00:00+00:00\n",
       "..                  ...               ...                       ...\n",
       "248                 207               0.0 2025-02-20 03:00:00+00:00\n",
       "249                 119               0.0 2025-02-20 03:00:00+00:00\n",
       "250                  12               1.0 2025-02-20 03:00:00+00:00\n",
       "251                  31               0.0 2025-02-20 03:00:00+00:00\n",
       "252                  16               0.0 2025-02-20 03:00:00+00:00\n",
       "\n",
       "[253 rows x 3 columns]"
      ]
     },
     "execution_count": 16,
     "metadata": {},
     "output_type": "execute_result"
    }
   ],
   "source": [
    "predictions[\"pickup_hour\"] = current_date.ceil('h')\n",
    "predictions"
   ]
  },
  {
   "cell_type": "code",
   "execution_count": 17,
   "id": "7b171dd4-628a-4c46-af00-92cee476f090",
   "metadata": {},
   "outputs": [
    {
     "name": "stdout",
     "output_type": "stream",
     "text": [
      "2025-02-19 21:06:53,267 INFO: Closing external client and cleaning up certificates.\n",
      "Connection closed.\n",
      "2025-02-19 21:06:53,274 INFO: Initializing external client\n",
      "2025-02-19 21:06:53,275 INFO: Base URL: https://c.app.hopsworks.ai:443\n",
      "2025-02-19 21:06:54,262 INFO: Python Engine initialized.\n",
      "\n",
      "Logged in to project, explore it here https://c.app.hopsworks.ai:443/p/1213633\n"
     ]
    }
   ],
   "source": [
    "from src.inference import get_feature_store\n",
    "\n",
    "feature_group = get_feature_store().get_or_create_feature_group(\n",
    "    name=config.FEATURE_GROUP_MODEL_PREDICTION,\n",
    "    version=1,\n",
    "    description=\"Predictions from LGBM Model\",\n",
    "    primary_key=[\"pickup_location_id\", \"pickup_hour\"],\n",
    "    event_time=\"pickup_hour\",\n",
    ")"
   ]
  },
  {
   "cell_type": "code",
   "execution_count": 18,
   "id": "0ba8f0db-022e-4f8a-ac34-6fd8bb095b47",
   "metadata": {},
   "outputs": [
    {
     "name": "stderr",
     "output_type": "stream",
     "text": [
      "Uploading Dataframe: 100.00% |█████████████████████████████| Rows 253/253 | Elapsed Time: 00:00 | Remaining Time: 00:00\n"
     ]
    },
    {
     "name": "stdout",
     "output_type": "stream",
     "text": [
      "Launching job: taxi_hourly_model_prediction_1_offline_fg_materialization\n",
      "Job started successfully, you can follow the progress at \n",
      "https://c.app.hopsworks.ai:443/p/1213633/jobs/named/taxi_hourly_model_prediction_1_offline_fg_materialization/executions\n"
     ]
    },
    {
     "data": {
      "text/plain": [
       "(Job('taxi_hourly_model_prediction_1_offline_fg_materialization', 'SPARK'),\n",
       " None)"
      ]
     },
     "execution_count": 18,
     "metadata": {},
     "output_type": "execute_result"
    }
   ],
   "source": [
    "feature_group.insert(predictions, write_options={\"wait_for_job\": False})"
   ]
  }
 ],
 "metadata": {
  "kernelspec": {
   "display_name": "Python 3 (ipykernel)",
   "language": "python",
   "name": "python3"
  },
  "language_info": {
   "codemirror_mode": {
    "name": "ipython",
    "version": 3
   },
   "file_extension": ".py",
   "mimetype": "text/x-python",
   "name": "python",
   "nbconvert_exporter": "python",
   "pygments_lexer": "ipython3",
   "version": "3.11.11"
  }
 },
 "nbformat": 4,
 "nbformat_minor": 5
}
